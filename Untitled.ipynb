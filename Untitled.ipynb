{
 "cells": [
  {
   "cell_type": "code",
   "execution_count": 1,
   "id": "c609ccfb-597d-4e6e-bc0a-0ba9437ae89d",
   "metadata": {},
   "outputs": [
    {
     "name": "stderr",
     "output_type": "stream",
     "text": [
      "C:\\Users\\RhaMo\\AppData\\Local\\Temp\\ipykernel_40484\\4080736814.py:1: DeprecationWarning: \n",
      "Pyarrow will become a required dependency of pandas in the next major release of pandas (pandas 3.0),\n",
      "(to allow more performant data types, such as the Arrow string type, and better interoperability with other libraries)\n",
      "but was not found to be installed on your system.\n",
      "If this would cause problems for you,\n",
      "please provide us feedback at https://github.com/pandas-dev/pandas/issues/54466\n",
      "        \n",
      "  import pandas as pd\n"
     ]
    }
   ],
   "source": [
    "import pandas as pd"
   ]
  },
  {
   "cell_type": "code",
   "execution_count": 3,
   "id": "9d791f29-000a-43a8-8e03-e3d35726e02b",
   "metadata": {},
   "outputs": [],
   "source": [
    "df = pd.read_csv('E:/RhaMo/CSV Files/Anime Dataset/final_animedataset.csv')"
   ]
  },
  {
   "cell_type": "code",
   "execution_count": 4,
   "id": "c7c986ee-f180-4c01-8536-640567b800cd",
   "metadata": {},
   "outputs": [
    {
     "name": "stdout",
     "output_type": "stream",
     "text": [
      "<class 'pandas.core.frame.DataFrame'>\n",
      "RangeIndex: 35305695 entries, 0 to 35305694\n",
      "Data columns (total 13 columns):\n",
      " #   Column      Dtype  \n",
      "---  ------      -----  \n",
      " 0   username    object \n",
      " 1   anime_id    int64  \n",
      " 2   my_score    int64  \n",
      " 3   user_id     int64  \n",
      " 4   gender      object \n",
      " 5   title       object \n",
      " 6   type        object \n",
      " 7   source      object \n",
      " 8   score       float64\n",
      " 9   scored_by   int64  \n",
      " 10  rank        float64\n",
      " 11  popularity  int64  \n",
      " 12  genre       object \n",
      "dtypes: float64(2), int64(5), object(6)\n",
      "memory usage: 3.4+ GB\n"
     ]
    }
   ],
   "source": [
    "df.info()"
   ]
  },
  {
   "cell_type": "code",
   "execution_count": null,
   "id": "6af2dec8-b954-47dd-b2e8-312043ee9642",
   "metadata": {},
   "outputs": [],
   "source": []
  }
 ],
 "metadata": {
  "kernelspec": {
   "display_name": "Python 3 (ipykernel)",
   "language": "python",
   "name": "python3"
  },
  "language_info": {
   "codemirror_mode": {
    "name": "ipython",
    "version": 3
   },
   "file_extension": ".py",
   "mimetype": "text/x-python",
   "name": "python",
   "nbconvert_exporter": "python",
   "pygments_lexer": "ipython3",
   "version": "3.9.13"
  }
 },
 "nbformat": 4,
 "nbformat_minor": 5
}
