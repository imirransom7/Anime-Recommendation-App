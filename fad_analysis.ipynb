{
 "cells": [
  {
   "cell_type": "code",
   "execution_count": 2,
   "id": "24450299-d31f-4b66-841a-f44093676b17",
   "metadata": {
    "tags": []
   },
   "outputs": [],
   "source": [
    "import pandas as pd"
   ]
  },
  {
   "cell_type": "code",
   "execution_count": 3,
   "id": "244c3e1d-f7b3-4dff-b7b8-2c996a09b793",
   "metadata": {
    "tags": []
   },
   "outputs": [],
   "source": [
    "df = pd.read_csv('final_animedataset.csv')"
   ]
  },
  {
   "cell_type": "code",
   "execution_count": 4,
   "id": "c3a71d24-d70e-4bfb-944a-322a18eea4d2",
   "metadata": {
    "tags": []
   },
   "outputs": [],
   "source": [
    "grouped = df.groupby(['anime_id', 'title', 'gender']).gender.count()"
   ]
  },
  {
   "cell_type": "code",
   "execution_count": 5,
   "id": "42bccc81-955e-4d38-9d40-6a0c0f84b2b5",
   "metadata": {
    "tags": []
   },
   "outputs": [
    {
     "data": {
      "text/plain": [
       "anime_id  title                            gender    \n",
       "1         Cowboy Bebop                     Female        13020\n",
       "                                           Male          38352\n",
       "                                           Non-Binary      335\n",
       "5         Cowboy Bebop: Tengoku no Tobira  Female         4606\n",
       "                                           Male          16142\n",
       "                                           Non-Binary      111\n",
       "6         Trigun                           Female         8450\n",
       "                                           Male          27401\n",
       "                                           Non-Binary      182\n",
       "7         Witch Hunter Robin               Female         4564\n",
       "                                           Male           8032\n",
       "                                           Non-Binary       50\n",
       "8         Beet the Vandel Buster           Female          357\n",
       "                                           Male           1519\n",
       "                                           Non-Binary        9\n",
       "15        Eyeshield 21                     Female         3209\n",
       "                                           Male           9292\n",
       "                                           Non-Binary       48\n",
       "16        Hachimitsu to Clover             Female         9645\n",
       "                                           Male          14460\n",
       "                                           Non-Binary      122\n",
       "17        Hungry Heart: Wild Striker       Female          686\n",
       "                                           Male           2099\n",
       "                                           Non-Binary        8\n",
       "18        Initial D Fourth Stage           Female          755\n",
       "                                           Male           6235\n",
       "                                           Non-Binary       29\n",
       "19        Monster                          Female         8397\n",
       "                                           Male          23653\n",
       "                                           Non-Binary      209\n",
       "20        Naruto                           Female        20798\n",
       "                                           Male          45217\n",
       "                                           Non-Binary      329\n",
       "21        One Piece                        Female        12756\n",
       "                                           Male          34471\n",
       "                                           Non-Binary      250\n",
       "22        Tennis no Ouji-sama              Female         5662\n",
       "                                           Male           7642\n",
       "                                           Non-Binary       73\n",
       "23        Ring ni Kakero 1                 Female          107\n",
       "                                           Male            501\n",
       "                                           Non-Binary        5\n",
       "24        School Rumble                    Female         9062\n",
       "                                           Male          21449\n",
       "                                           Non-Binary      117\n",
       "25        Sunabouzu                        Female         1485\n",
       "                                           Male           9739\n",
       "                                           Non-Binary       50\n",
       "26        Texhnolyze                       Female         4143\n",
       "                                           Male          12330\n",
       "Name: gender, dtype: int64"
      ]
     },
     "execution_count": 5,
     "metadata": {},
     "output_type": "execute_result"
    }
   ],
   "source": [
    "grouped.head(50)"
   ]
  },
  {
   "cell_type": "code",
   "execution_count": 39,
   "id": "e344aeb2-4e02-4916-abaa-d167959de92a",
   "metadata": {
    "tags": []
   },
   "outputs": [
    {
     "data": {
      "text/plain": [
       "array(['Female', 'Male', 'Non-Binary'], dtype=object)"
      ]
     },
     "execution_count": 39,
     "metadata": {},
     "output_type": "execute_result"
    }
   ],
   "source": [
    "df['gender'].unique()"
   ]
  },
  {
   "cell_type": "code",
   "execution_count": 11,
   "id": "432adc49-dc29-406e-bc59-a8e852a79547",
   "metadata": {
    "tags": []
   },
   "outputs": [],
   "source": [
    "gender_list = list(df['gender'])"
   ]
  },
  {
   "cell_type": "code",
   "execution_count": 36,
   "id": "7ff0f809-5b73-4303-964a-ef5109756c01",
   "metadata": {
    "tags": []
   },
   "outputs": [
    {
     "name": "stdout",
     "output_type": "stream",
     "text": [
      "25386353\n",
      "9678908\n",
      "240434\n"
     ]
    }
   ],
   "source": [
    "def gender_counter(genders: list, name: str) -> int:\n",
    "    counter = 0\n",
    "    for gender in genders:\n",
    "        if gender == name:\n",
    "            counter += 1\n",
    "    return counter\n",
    "\n",
    "\n",
    "female_counter = gender_counter(gender_list, 'Female')\n",
    "male_counter = gender_counter(gender_list, 'Male')\n",
    "non_binary_counter = gender_counter(gender_list, 'Non-Binary')\n",
    "print(male_counter)\n",
    "print(female_counter)\n",
    "print(non_binary_counter)"
   ]
  },
  {
   "cell_type": "code",
   "execution_count": null,
   "id": "05e50626-0a63-4b62-9ef1-1642eef259a4",
   "metadata": {},
   "outputs": [],
   "source": []
  }
 ],
 "metadata": {
  "kernelspec": {
   "display_name": "Python 3 (ipykernel)",
   "language": "python",
   "name": "python3"
  },
  "language_info": {
   "codemirror_mode": {
    "name": "ipython",
    "version": 3
   },
   "file_extension": ".py",
   "mimetype": "text/x-python",
   "name": "python",
   "nbconvert_exporter": "python",
   "pygments_lexer": "ipython3",
   "version": "3.11.5"
  }
 },
 "nbformat": 4,
 "nbformat_minor": 5
}
