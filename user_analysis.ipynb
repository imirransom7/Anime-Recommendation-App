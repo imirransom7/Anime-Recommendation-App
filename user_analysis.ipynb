{
 "cells": [
  {
   "cell_type": "markdown",
   "id": "347ee2b4-c0d6-4580-b6ad-44213748aaea",
   "metadata": {},
   "source": [
    "# User Data Anlysis\n",
    "My main goal as of now is to get the age of the average user Birthdays are given, so I will use that to get the ages of the users"
   ]
  },
  {
   "cell_type": "code",
   "execution_count": 1,
   "id": "883ca321-141c-4d11-9f69-492163246fc0",
   "metadata": {},
   "outputs": [
    {
     "name": "stderr",
     "output_type": "stream",
     "text": [
      "C:\\Users\\RhaMo\\AppData\\Local\\Temp\\ipykernel_22256\\4080736814.py:1: DeprecationWarning: \n",
      "Pyarrow will become a required dependency of pandas in the next major release of pandas (pandas 3.0),\n",
      "(to allow more performant data types, such as the Arrow string type, and better interoperability with other libraries)\n",
      "but was not found to be installed on your system.\n",
      "If this would cause problems for you,\n",
      "please provide us feedback at https://github.com/pandas-dev/pandas/issues/54466\n",
      "        \n",
      "  import pandas as pd\n"
     ]
    }
   ],
   "source": [
    "import pandas as pd"
   ]
  },
  {
   "cell_type": "code",
   "execution_count": 9,
   "id": "cf113062-1bed-416e-a1ff-ac7d8c01765b",
   "metadata": {},
   "outputs": [
    {
     "data": {
      "text/html": [
       "<div>\n",
       "<style scoped>\n",
       "    .dataframe tbody tr th:only-of-type {\n",
       "        vertical-align: middle;\n",
       "    }\n",
       "\n",
       "    .dataframe tbody tr th {\n",
       "        vertical-align: top;\n",
       "    }\n",
       "\n",
       "    .dataframe thead th {\n",
       "        text-align: right;\n",
       "    }\n",
       "</style>\n",
       "<table border=\"1\" class=\"dataframe\">\n",
       "  <thead>\n",
       "    <tr style=\"text-align: right;\">\n",
       "      <th></th>\n",
       "      <th>Mal ID</th>\n",
       "      <th>Username</th>\n",
       "      <th>Gender</th>\n",
       "      <th>Birthday</th>\n",
       "      <th>Location</th>\n",
       "      <th>Joined</th>\n",
       "      <th>Days Watched</th>\n",
       "      <th>Mean Score</th>\n",
       "      <th>Watching</th>\n",
       "      <th>Completed</th>\n",
       "      <th>On Hold</th>\n",
       "      <th>Dropped</th>\n",
       "      <th>Plan to Watch</th>\n",
       "      <th>Total Entries</th>\n",
       "      <th>Rewatched</th>\n",
       "      <th>Episodes Watched</th>\n",
       "    </tr>\n",
       "  </thead>\n",
       "  <tbody>\n",
       "    <tr>\n",
       "      <th>0</th>\n",
       "      <td>1</td>\n",
       "      <td>Xinil</td>\n",
       "      <td>Male</td>\n",
       "      <td>1985-03-04T00:00:00+00:00</td>\n",
       "      <td>California</td>\n",
       "      <td>2004-11-05T00:00:00+00:00</td>\n",
       "      <td>142.3</td>\n",
       "      <td>7.37</td>\n",
       "      <td>1.0</td>\n",
       "      <td>233.0</td>\n",
       "      <td>8.0</td>\n",
       "      <td>93.0</td>\n",
       "      <td>64.0</td>\n",
       "      <td>399.0</td>\n",
       "      <td>60.0</td>\n",
       "      <td>8458.0</td>\n",
       "    </tr>\n",
       "    <tr>\n",
       "      <th>1</th>\n",
       "      <td>3</td>\n",
       "      <td>Aokaado</td>\n",
       "      <td>Male</td>\n",
       "      <td>NaN</td>\n",
       "      <td>Oslo, Norway</td>\n",
       "      <td>2004-11-11T00:00:00+00:00</td>\n",
       "      <td>68.6</td>\n",
       "      <td>7.34</td>\n",
       "      <td>23.0</td>\n",
       "      <td>137.0</td>\n",
       "      <td>99.0</td>\n",
       "      <td>44.0</td>\n",
       "      <td>40.0</td>\n",
       "      <td>343.0</td>\n",
       "      <td>15.0</td>\n",
       "      <td>4072.0</td>\n",
       "    </tr>\n",
       "    <tr>\n",
       "      <th>2</th>\n",
       "      <td>4</td>\n",
       "      <td>Crystal</td>\n",
       "      <td>Female</td>\n",
       "      <td>NaN</td>\n",
       "      <td>Melbourne, Australia</td>\n",
       "      <td>2004-11-13T00:00:00+00:00</td>\n",
       "      <td>212.8</td>\n",
       "      <td>6.68</td>\n",
       "      <td>16.0</td>\n",
       "      <td>636.0</td>\n",
       "      <td>303.0</td>\n",
       "      <td>0.0</td>\n",
       "      <td>45.0</td>\n",
       "      <td>1000.0</td>\n",
       "      <td>10.0</td>\n",
       "      <td>12781.0</td>\n",
       "    </tr>\n",
       "    <tr>\n",
       "      <th>3</th>\n",
       "      <td>9</td>\n",
       "      <td>Arcane</td>\n",
       "      <td>NaN</td>\n",
       "      <td>NaN</td>\n",
       "      <td>NaN</td>\n",
       "      <td>2004-12-05T00:00:00+00:00</td>\n",
       "      <td>30.0</td>\n",
       "      <td>7.71</td>\n",
       "      <td>5.0</td>\n",
       "      <td>54.0</td>\n",
       "      <td>4.0</td>\n",
       "      <td>3.0</td>\n",
       "      <td>0.0</td>\n",
       "      <td>66.0</td>\n",
       "      <td>0.0</td>\n",
       "      <td>1817.0</td>\n",
       "    </tr>\n",
       "    <tr>\n",
       "      <th>4</th>\n",
       "      <td>18</td>\n",
       "      <td>Mad</td>\n",
       "      <td>NaN</td>\n",
       "      <td>NaN</td>\n",
       "      <td>NaN</td>\n",
       "      <td>2005-01-03T00:00:00+00:00</td>\n",
       "      <td>52.0</td>\n",
       "      <td>6.27</td>\n",
       "      <td>1.0</td>\n",
       "      <td>114.0</td>\n",
       "      <td>10.0</td>\n",
       "      <td>5.0</td>\n",
       "      <td>23.0</td>\n",
       "      <td>153.0</td>\n",
       "      <td>42.0</td>\n",
       "      <td>3038.0</td>\n",
       "    </tr>\n",
       "    <tr>\n",
       "      <th>...</th>\n",
       "      <td>...</td>\n",
       "      <td>...</td>\n",
       "      <td>...</td>\n",
       "      <td>...</td>\n",
       "      <td>...</td>\n",
       "      <td>...</td>\n",
       "      <td>...</td>\n",
       "      <td>...</td>\n",
       "      <td>...</td>\n",
       "      <td>...</td>\n",
       "      <td>...</td>\n",
       "      <td>...</td>\n",
       "      <td>...</td>\n",
       "      <td>...</td>\n",
       "      <td>...</td>\n",
       "      <td>...</td>\n",
       "    </tr>\n",
       "    <tr>\n",
       "      <th>731285</th>\n",
       "      <td>1291083</td>\n",
       "      <td>Dolopa</td>\n",
       "      <td>NaN</td>\n",
       "      <td>NaN</td>\n",
       "      <td>NaN</td>\n",
       "      <td>2012-05-06T00:00:00+00:00</td>\n",
       "      <td>0.0</td>\n",
       "      <td>0.00</td>\n",
       "      <td>0.0</td>\n",
       "      <td>0.0</td>\n",
       "      <td>0.0</td>\n",
       "      <td>0.0</td>\n",
       "      <td>0.0</td>\n",
       "      <td>0.0</td>\n",
       "      <td>0.0</td>\n",
       "      <td>0.0</td>\n",
       "    </tr>\n",
       "    <tr>\n",
       "      <th>731286</th>\n",
       "      <td>1291085</td>\n",
       "      <td>alenrobnik</td>\n",
       "      <td>NaN</td>\n",
       "      <td>NaN</td>\n",
       "      <td>NaN</td>\n",
       "      <td>2012-05-06T00:00:00+00:00</td>\n",
       "      <td>21.4</td>\n",
       "      <td>8.22</td>\n",
       "      <td>16.0</td>\n",
       "      <td>58.0</td>\n",
       "      <td>9.0</td>\n",
       "      <td>1.0</td>\n",
       "      <td>42.0</td>\n",
       "      <td>126.0</td>\n",
       "      <td>0.0</td>\n",
       "      <td>1239.0</td>\n",
       "    </tr>\n",
       "    <tr>\n",
       "      <th>731287</th>\n",
       "      <td>1291087</td>\n",
       "      <td>Oblongata</td>\n",
       "      <td>NaN</td>\n",
       "      <td>1993-01-30T00:00:00+00:00</td>\n",
       "      <td>NaN</td>\n",
       "      <td>2012-05-06T00:00:00+00:00</td>\n",
       "      <td>51.3</td>\n",
       "      <td>7.53</td>\n",
       "      <td>38.0</td>\n",
       "      <td>175.0</td>\n",
       "      <td>0.0</td>\n",
       "      <td>9.0</td>\n",
       "      <td>211.0</td>\n",
       "      <td>433.0</td>\n",
       "      <td>2.0</td>\n",
       "      <td>3010.0</td>\n",
       "    </tr>\n",
       "    <tr>\n",
       "      <th>731288</th>\n",
       "      <td>1291091</td>\n",
       "      <td>Etnota</td>\n",
       "      <td>NaN</td>\n",
       "      <td>NaN</td>\n",
       "      <td>NaN</td>\n",
       "      <td>2012-05-06T00:00:00+00:00</td>\n",
       "      <td>0.0</td>\n",
       "      <td>0.00</td>\n",
       "      <td>0.0</td>\n",
       "      <td>0.0</td>\n",
       "      <td>0.0</td>\n",
       "      <td>0.0</td>\n",
       "      <td>0.0</td>\n",
       "      <td>0.0</td>\n",
       "      <td>0.0</td>\n",
       "      <td>0.0</td>\n",
       "    </tr>\n",
       "    <tr>\n",
       "      <th>731289</th>\n",
       "      <td>1291097</td>\n",
       "      <td>JuunanaSai</td>\n",
       "      <td>Female</td>\n",
       "      <td>NaN</td>\n",
       "      <td>NaN</td>\n",
       "      <td>2012-05-06T00:00:00+00:00</td>\n",
       "      <td>3.7</td>\n",
       "      <td>9.67</td>\n",
       "      <td>1.0</td>\n",
       "      <td>11.0</td>\n",
       "      <td>0.0</td>\n",
       "      <td>0.0</td>\n",
       "      <td>2.0</td>\n",
       "      <td>14.0</td>\n",
       "      <td>0.0</td>\n",
       "      <td>222.0</td>\n",
       "    </tr>\n",
       "  </tbody>\n",
       "</table>\n",
       "<p>731290 rows × 16 columns</p>\n",
       "</div>"
      ],
      "text/plain": [
       "         Mal ID    Username  Gender                   Birthday  \\\n",
       "0             1       Xinil    Male  1985-03-04T00:00:00+00:00   \n",
       "1             3     Aokaado    Male                        NaN   \n",
       "2             4     Crystal  Female                        NaN   \n",
       "3             9      Arcane     NaN                        NaN   \n",
       "4            18         Mad     NaN                        NaN   \n",
       "...         ...         ...     ...                        ...   \n",
       "731285  1291083      Dolopa     NaN                        NaN   \n",
       "731286  1291085  alenrobnik     NaN                        NaN   \n",
       "731287  1291087   Oblongata     NaN  1993-01-30T00:00:00+00:00   \n",
       "731288  1291091      Etnota     NaN                        NaN   \n",
       "731289  1291097  JuunanaSai  Female                        NaN   \n",
       "\n",
       "                    Location                     Joined  Days Watched  \\\n",
       "0                 California  2004-11-05T00:00:00+00:00         142.3   \n",
       "1               Oslo, Norway  2004-11-11T00:00:00+00:00          68.6   \n",
       "2       Melbourne, Australia  2004-11-13T00:00:00+00:00         212.8   \n",
       "3                        NaN  2004-12-05T00:00:00+00:00          30.0   \n",
       "4                        NaN  2005-01-03T00:00:00+00:00          52.0   \n",
       "...                      ...                        ...           ...   \n",
       "731285                   NaN  2012-05-06T00:00:00+00:00           0.0   \n",
       "731286                   NaN  2012-05-06T00:00:00+00:00          21.4   \n",
       "731287                   NaN  2012-05-06T00:00:00+00:00          51.3   \n",
       "731288                   NaN  2012-05-06T00:00:00+00:00           0.0   \n",
       "731289                   NaN  2012-05-06T00:00:00+00:00           3.7   \n",
       "\n",
       "        Mean Score  Watching  Completed  On Hold  Dropped  Plan to Watch  \\\n",
       "0             7.37       1.0      233.0      8.0     93.0           64.0   \n",
       "1             7.34      23.0      137.0     99.0     44.0           40.0   \n",
       "2             6.68      16.0      636.0    303.0      0.0           45.0   \n",
       "3             7.71       5.0       54.0      4.0      3.0            0.0   \n",
       "4             6.27       1.0      114.0     10.0      5.0           23.0   \n",
       "...            ...       ...        ...      ...      ...            ...   \n",
       "731285        0.00       0.0        0.0      0.0      0.0            0.0   \n",
       "731286        8.22      16.0       58.0      9.0      1.0           42.0   \n",
       "731287        7.53      38.0      175.0      0.0      9.0          211.0   \n",
       "731288        0.00       0.0        0.0      0.0      0.0            0.0   \n",
       "731289        9.67       1.0       11.0      0.0      0.0            2.0   \n",
       "\n",
       "        Total Entries  Rewatched  Episodes Watched  \n",
       "0               399.0       60.0            8458.0  \n",
       "1               343.0       15.0            4072.0  \n",
       "2              1000.0       10.0           12781.0  \n",
       "3                66.0        0.0            1817.0  \n",
       "4               153.0       42.0            3038.0  \n",
       "...               ...        ...               ...  \n",
       "731285            0.0        0.0               0.0  \n",
       "731286          126.0        0.0            1239.0  \n",
       "731287          433.0        2.0            3010.0  \n",
       "731288            0.0        0.0               0.0  \n",
       "731289           14.0        0.0             222.0  \n",
       "\n",
       "[731290 rows x 16 columns]"
      ]
     },
     "execution_count": 9,
     "metadata": {},
     "output_type": "execute_result"
    }
   ],
   "source": [
    "df = pd.read_csv('E:/RhaMo/CSV Files/Anime Dataset/users-details-2023.csv')\n",
    "df"
   ]
  },
  {
   "cell_type": "markdown",
   "id": "e2a389b3-4ccc-4bda-99eb-1288d9f8a713",
   "metadata": {},
   "source": [
    "## Na Values\n",
    "There are Na values in the column `Birthday`. So, I will drop them, for they are not needed for this analysis"
   ]
  },
  {
   "cell_type": "code",
   "execution_count": 25,
   "id": "b0878d01-4d92-4978-9d40-f31132e31f0c",
   "metadata": {},
   "outputs": [
    {
     "name": "stdout",
     "output_type": "stream",
     "text": [
      "<class 'pandas.core.frame.DataFrame'>\n",
      "RangeIndex: 731290 entries, 0 to 731289\n",
      "Data columns (total 16 columns):\n",
      " #   Column            Non-Null Count   Dtype  \n",
      "---  ------            --------------   -----  \n",
      " 0   Mal ID            731290 non-null  int64  \n",
      " 1   Username          731289 non-null  object \n",
      " 2   Gender            224383 non-null  object \n",
      " 3   Birthday          168068 non-null  object \n",
      " 4   Location          152805 non-null  object \n",
      " 5   Joined            731290 non-null  object \n",
      " 6   Days Watched      731282 non-null  float64\n",
      " 7   Mean Score        731282 non-null  float64\n",
      " 8   Watching          731282 non-null  float64\n",
      " 9   Completed         731282 non-null  float64\n",
      " 10  On Hold           731282 non-null  float64\n",
      " 11  Dropped           731282 non-null  float64\n",
      " 12  Plan to Watch     731282 non-null  float64\n",
      " 13  Total Entries     731282 non-null  float64\n",
      " 14  Rewatched         731282 non-null  float64\n",
      " 15  Episodes Watched  731282 non-null  float64\n",
      "dtypes: float64(10), int64(1), object(5)\n",
      "memory usage: 89.3+ MB\n"
     ]
    }
   ],
   "source": [
    "df.info()"
   ]
  },
  {
   "cell_type": "code",
   "execution_count": 19,
   "id": "8844d575-0a69-439e-b114-4f6d52608f7b",
   "metadata": {
    "scrolled": true
   },
   "outputs": [
    {
     "data": {
      "text/plain": [
       "731290"
      ]
     },
     "execution_count": 19,
     "metadata": {},
     "output_type": "execute_result"
    }
   ],
   "source": [
    "len(df['Birthday'])"
   ]
  },
  {
   "cell_type": "code",
   "execution_count": 23,
   "id": "f2f39aac-bad3-44c6-9467-2c748c474fc1",
   "metadata": {},
   "outputs": [
    {
     "data": {
      "text/plain": [
       "0         1985-03-04T00:00:00+00:00\n",
       "5         1988-01-25T00:00:00+00:00\n",
       "6         1988-02-22T00:00:00+00:00\n",
       "11        1990-02-09T00:00:00+00:00\n",
       "12        1983-11-09T00:00:00+00:00\n",
       "                    ...            \n",
       "731266    1994-08-20T00:00:00+00:00\n",
       "731269    1996-12-07T00:00:00+00:00\n",
       "731270    1991-12-11T00:00:00+00:00\n",
       "731280    1997-12-24T00:00:00+00:00\n",
       "731287    1993-01-30T00:00:00+00:00\n",
       "Name: Birthday, Length: 168068, dtype: object"
      ]
     },
     "execution_count": 23,
     "metadata": {},
     "output_type": "execute_result"
    }
   ],
   "source": [
    "bday = df['Birthday'].dropna()\n",
    "bday"
   ]
  },
  {
   "cell_type": "code",
   "execution_count": 24,
   "id": "31a51182-6bd6-4244-8d34-6368e148fca0",
   "metadata": {
    "scrolled": true
   },
   "outputs": [
    {
     "data": {
      "text/plain": [
       "168068"
      ]
     },
     "execution_count": 24,
     "metadata": {},
     "output_type": "execute_result"
    }
   ],
   "source": [
    "bday.count()"
   ]
  },
  {
   "cell_type": "markdown",
   "id": "a0c4d99c-ac82-4038-8c8d-ffc42474e5b9",
   "metadata": {},
   "source": [
    "### Converting to Strings\n",
    "The values in the `Birthday` column need to be converted into strings"
   ]
  },
  {
   "cell_type": "code",
   "execution_count": 35,
   "id": "522baab3-1172-4073-8f9c-f7d859b42e66",
   "metadata": {},
   "outputs": [],
   "source": [
    "df['Birthday'] = df['Birthday'].astype(str)"
   ]
  },
  {
   "cell_type": "markdown",
   "id": "d997b785-8c9c-46cc-a2ac-7ebe98f13627",
   "metadata": {},
   "source": [
    "## Age Function\n",
    "Creating a function that will get the ages of the users from the years provided in their birthdays"
   ]
  },
  {
   "cell_type": "code",
   "execution_count": 26,
   "id": "4bc56da7-4cf6-437e-979a-9917c88a16f3",
   "metadata": {},
   "outputs": [],
   "source": [
    "import re"
   ]
  },
  {
   "cell_type": "code",
   "execution_count": 45,
   "id": "f2687111-acfe-49b0-a82f-b7b2cad6da0d",
   "metadata": {},
   "outputs": [],
   "source": [
    "def get_age(birthday):\n",
    "    # Making a function that will get the age\n",
    "    def calculate_age(birth_year):\n",
    "        return 2023 - int(birth_year)\n",
    "    year_regex = r'(\\d{4})-\\d{2}-\\d{2}T'\n",
    "    matched = re.match(year_regex, birthday)\n",
    "    if matched:\n",
    "        age = calculate_age(matched.group(1))\n",
    "        return age"
   ]
  },
  {
   "cell_type": "markdown",
   "id": "a40800ca-9365-4eaa-b8e3-84e31136445d",
   "metadata": {},
   "source": [
    "### Applying the Function\n",
    "I am applying the function to the DataFrame; making a new column, `Age`"
   ]
  },
  {
   "cell_type": "code",
   "execution_count": 46,
   "id": "6c984cc1-4610-4dc5-bebb-dc8bd93e86db",
   "metadata": {},
   "outputs": [],
   "source": [
    "df['Age'] = df['Birthday'].apply(get_age)"
   ]
  },
  {
   "cell_type": "code",
   "execution_count": 47,
   "id": "af1fc289-6559-4d85-b19b-e23dca506fc4",
   "metadata": {},
   "outputs": [
    {
     "name": "stdout",
     "output_type": "stream",
     "text": [
      "<class 'pandas.core.frame.DataFrame'>\n",
      "RangeIndex: 731290 entries, 0 to 731289\n",
      "Data columns (total 17 columns):\n",
      " #   Column            Non-Null Count   Dtype  \n",
      "---  ------            --------------   -----  \n",
      " 0   Mal ID            731290 non-null  int64  \n",
      " 1   Username          731289 non-null  object \n",
      " 2   Gender            224383 non-null  object \n",
      " 3   Birthday          731290 non-null  object \n",
      " 4   Location          152805 non-null  object \n",
      " 5   Joined            731290 non-null  object \n",
      " 6   Days Watched      731282 non-null  float64\n",
      " 7   Mean Score        731282 non-null  float64\n",
      " 8   Watching          731282 non-null  float64\n",
      " 9   Completed         731282 non-null  float64\n",
      " 10  On Hold           731282 non-null  float64\n",
      " 11  Dropped           731282 non-null  float64\n",
      " 12  Plan to Watch     731282 non-null  float64\n",
      " 13  Total Entries     731282 non-null  float64\n",
      " 14  Rewatched         731282 non-null  float64\n",
      " 15  Episodes Watched  731282 non-null  float64\n",
      " 16  Age               168068 non-null  float64\n",
      "dtypes: float64(11), int64(1), object(5)\n",
      "memory usage: 94.8+ MB\n"
     ]
    }
   ],
   "source": [
    "df.info()"
   ]
  },
  {
   "cell_type": "code",
   "execution_count": 48,
   "id": "f1e8030a-0412-414d-ab31-46e69d4baf4b",
   "metadata": {},
   "outputs": [
    {
     "data": {
      "text/plain": [
       "0         38.0\n",
       "1          NaN\n",
       "2          NaN\n",
       "3          NaN\n",
       "4          NaN\n",
       "          ... \n",
       "731285     NaN\n",
       "731286     NaN\n",
       "731287    30.0\n",
       "731288     NaN\n",
       "731289     NaN\n",
       "Name: Age, Length: 731290, dtype: float64"
      ]
     },
     "execution_count": 48,
     "metadata": {},
     "output_type": "execute_result"
    }
   ],
   "source": [
    "df['Age']"
   ]
  },
  {
   "cell_type": "code",
   "execution_count": 49,
   "id": "5e1f0c9c-72c6-4b09-8816-49e79d84676f",
   "metadata": {},
   "outputs": [
    {
     "data": {
      "text/plain": [
       "0         1985-03-04T00:00:00+00:00\n",
       "1                               nan\n",
       "2                               nan\n",
       "3                               nan\n",
       "4                               nan\n",
       "                    ...            \n",
       "731285                          nan\n",
       "731286                          nan\n",
       "731287    1993-01-30T00:00:00+00:00\n",
       "731288                          nan\n",
       "731289                          nan\n",
       "Name: Birthday, Length: 731290, dtype: object"
      ]
     },
     "execution_count": 49,
     "metadata": {},
     "output_type": "execute_result"
    }
   ],
   "source": [
    "df['Birthday']"
   ]
  },
  {
   "cell_type": "code",
   "execution_count": 50,
   "id": "1bfd2faf-ec4f-4165-bc25-b58d55d93b9e",
   "metadata": {},
   "outputs": [
    {
     "ename": "IntCastingNaNError",
     "evalue": "Cannot convert non-finite values (NA or inf) to integer",
     "output_type": "error",
     "traceback": [
      "\u001b[1;31m---------------------------------------------------------------------------\u001b[0m",
      "\u001b[1;31mIntCastingNaNError\u001b[0m                        Traceback (most recent call last)",
      "Cell \u001b[1;32mIn[50], line 1\u001b[0m\n\u001b[1;32m----> 1\u001b[0m df[\u001b[38;5;124m'\u001b[39m\u001b[38;5;124mAge\u001b[39m\u001b[38;5;124m'\u001b[39m] \u001b[38;5;241m=\u001b[39m \u001b[43mdf\u001b[49m\u001b[43m[\u001b[49m\u001b[38;5;124;43m'\u001b[39;49m\u001b[38;5;124;43mAge\u001b[39;49m\u001b[38;5;124;43m'\u001b[39;49m\u001b[43m]\u001b[49m\u001b[38;5;241;43m.\u001b[39;49m\u001b[43mastype\u001b[49m\u001b[43m(\u001b[49m\u001b[38;5;28;43mint\u001b[39;49m\u001b[43m)\u001b[49m\n",
      "File \u001b[1;32m~\\AppData\\Local\\Programs\\Python\\Python39\\lib\\site-packages\\pandas\\core\\generic.py:6637\u001b[0m, in \u001b[0;36mNDFrame.astype\u001b[1;34m(self, dtype, copy, errors)\u001b[0m\n\u001b[0;32m   6631\u001b[0m     results \u001b[38;5;241m=\u001b[39m [\n\u001b[0;32m   6632\u001b[0m         ser\u001b[38;5;241m.\u001b[39mastype(dtype, copy\u001b[38;5;241m=\u001b[39mcopy, errors\u001b[38;5;241m=\u001b[39merrors) \u001b[38;5;28;01mfor\u001b[39;00m _, ser \u001b[38;5;129;01min\u001b[39;00m \u001b[38;5;28mself\u001b[39m\u001b[38;5;241m.\u001b[39mitems()\n\u001b[0;32m   6633\u001b[0m     ]\n\u001b[0;32m   6635\u001b[0m \u001b[38;5;28;01melse\u001b[39;00m:\n\u001b[0;32m   6636\u001b[0m     \u001b[38;5;66;03m# else, only a single dtype is given\u001b[39;00m\n\u001b[1;32m-> 6637\u001b[0m     new_data \u001b[38;5;241m=\u001b[39m \u001b[38;5;28;43mself\u001b[39;49m\u001b[38;5;241;43m.\u001b[39;49m\u001b[43m_mgr\u001b[49m\u001b[38;5;241;43m.\u001b[39;49m\u001b[43mastype\u001b[49m\u001b[43m(\u001b[49m\u001b[43mdtype\u001b[49m\u001b[38;5;241;43m=\u001b[39;49m\u001b[43mdtype\u001b[49m\u001b[43m,\u001b[49m\u001b[43m \u001b[49m\u001b[43mcopy\u001b[49m\u001b[38;5;241;43m=\u001b[39;49m\u001b[43mcopy\u001b[49m\u001b[43m,\u001b[49m\u001b[43m \u001b[49m\u001b[43merrors\u001b[49m\u001b[38;5;241;43m=\u001b[39;49m\u001b[43merrors\u001b[49m\u001b[43m)\u001b[49m\n\u001b[0;32m   6638\u001b[0m     res \u001b[38;5;241m=\u001b[39m \u001b[38;5;28mself\u001b[39m\u001b[38;5;241m.\u001b[39m_constructor_from_mgr(new_data, axes\u001b[38;5;241m=\u001b[39mnew_data\u001b[38;5;241m.\u001b[39maxes)\n\u001b[0;32m   6639\u001b[0m     \u001b[38;5;28;01mreturn\u001b[39;00m res\u001b[38;5;241m.\u001b[39m__finalize__(\u001b[38;5;28mself\u001b[39m, method\u001b[38;5;241m=\u001b[39m\u001b[38;5;124m\"\u001b[39m\u001b[38;5;124mastype\u001b[39m\u001b[38;5;124m\"\u001b[39m)\n",
      "File \u001b[1;32m~\\AppData\\Local\\Programs\\Python\\Python39\\lib\\site-packages\\pandas\\core\\internals\\managers.py:431\u001b[0m, in \u001b[0;36mBaseBlockManager.astype\u001b[1;34m(self, dtype, copy, errors)\u001b[0m\n\u001b[0;32m    428\u001b[0m \u001b[38;5;28;01melif\u001b[39;00m using_copy_on_write():\n\u001b[0;32m    429\u001b[0m     copy \u001b[38;5;241m=\u001b[39m \u001b[38;5;28;01mFalse\u001b[39;00m\n\u001b[1;32m--> 431\u001b[0m \u001b[38;5;28;01mreturn\u001b[39;00m \u001b[38;5;28;43mself\u001b[39;49m\u001b[38;5;241;43m.\u001b[39;49m\u001b[43mapply\u001b[49m\u001b[43m(\u001b[49m\n\u001b[0;32m    432\u001b[0m \u001b[43m    \u001b[49m\u001b[38;5;124;43m\"\u001b[39;49m\u001b[38;5;124;43mastype\u001b[39;49m\u001b[38;5;124;43m\"\u001b[39;49m\u001b[43m,\u001b[49m\n\u001b[0;32m    433\u001b[0m \u001b[43m    \u001b[49m\u001b[43mdtype\u001b[49m\u001b[38;5;241;43m=\u001b[39;49m\u001b[43mdtype\u001b[49m\u001b[43m,\u001b[49m\n\u001b[0;32m    434\u001b[0m \u001b[43m    \u001b[49m\u001b[43mcopy\u001b[49m\u001b[38;5;241;43m=\u001b[39;49m\u001b[43mcopy\u001b[49m\u001b[43m,\u001b[49m\n\u001b[0;32m    435\u001b[0m \u001b[43m    \u001b[49m\u001b[43merrors\u001b[49m\u001b[38;5;241;43m=\u001b[39;49m\u001b[43merrors\u001b[49m\u001b[43m,\u001b[49m\n\u001b[0;32m    436\u001b[0m \u001b[43m    \u001b[49m\u001b[43musing_cow\u001b[49m\u001b[38;5;241;43m=\u001b[39;49m\u001b[43musing_copy_on_write\u001b[49m\u001b[43m(\u001b[49m\u001b[43m)\u001b[49m\u001b[43m,\u001b[49m\n\u001b[0;32m    437\u001b[0m \u001b[43m\u001b[49m\u001b[43m)\u001b[49m\n",
      "File \u001b[1;32m~\\AppData\\Local\\Programs\\Python\\Python39\\lib\\site-packages\\pandas\\core\\internals\\managers.py:364\u001b[0m, in \u001b[0;36mBaseBlockManager.apply\u001b[1;34m(self, f, align_keys, **kwargs)\u001b[0m\n\u001b[0;32m    362\u001b[0m         applied \u001b[38;5;241m=\u001b[39m b\u001b[38;5;241m.\u001b[39mapply(f, \u001b[38;5;241m*\u001b[39m\u001b[38;5;241m*\u001b[39mkwargs)\n\u001b[0;32m    363\u001b[0m     \u001b[38;5;28;01melse\u001b[39;00m:\n\u001b[1;32m--> 364\u001b[0m         applied \u001b[38;5;241m=\u001b[39m \u001b[38;5;28mgetattr\u001b[39m(b, f)(\u001b[38;5;241m*\u001b[39m\u001b[38;5;241m*\u001b[39mkwargs)\n\u001b[0;32m    365\u001b[0m     result_blocks \u001b[38;5;241m=\u001b[39m extend_blocks(applied, result_blocks)\n\u001b[0;32m    367\u001b[0m out \u001b[38;5;241m=\u001b[39m \u001b[38;5;28mtype\u001b[39m(\u001b[38;5;28mself\u001b[39m)\u001b[38;5;241m.\u001b[39mfrom_blocks(result_blocks, \u001b[38;5;28mself\u001b[39m\u001b[38;5;241m.\u001b[39maxes)\n",
      "File \u001b[1;32m~\\AppData\\Local\\Programs\\Python\\Python39\\lib\\site-packages\\pandas\\core\\internals\\blocks.py:758\u001b[0m, in \u001b[0;36mBlock.astype\u001b[1;34m(self, dtype, copy, errors, using_cow, squeeze)\u001b[0m\n\u001b[0;32m    755\u001b[0m         \u001b[38;5;28;01mraise\u001b[39;00m \u001b[38;5;167;01mValueError\u001b[39;00m(\u001b[38;5;124m\"\u001b[39m\u001b[38;5;124mCan not squeeze with more than one column.\u001b[39m\u001b[38;5;124m\"\u001b[39m)\n\u001b[0;32m    756\u001b[0m     values \u001b[38;5;241m=\u001b[39m values[\u001b[38;5;241m0\u001b[39m, :]  \u001b[38;5;66;03m# type: ignore[call-overload]\u001b[39;00m\n\u001b[1;32m--> 758\u001b[0m new_values \u001b[38;5;241m=\u001b[39m \u001b[43mastype_array_safe\u001b[49m\u001b[43m(\u001b[49m\u001b[43mvalues\u001b[49m\u001b[43m,\u001b[49m\u001b[43m \u001b[49m\u001b[43mdtype\u001b[49m\u001b[43m,\u001b[49m\u001b[43m \u001b[49m\u001b[43mcopy\u001b[49m\u001b[38;5;241;43m=\u001b[39;49m\u001b[43mcopy\u001b[49m\u001b[43m,\u001b[49m\u001b[43m \u001b[49m\u001b[43merrors\u001b[49m\u001b[38;5;241;43m=\u001b[39;49m\u001b[43merrors\u001b[49m\u001b[43m)\u001b[49m\n\u001b[0;32m    760\u001b[0m new_values \u001b[38;5;241m=\u001b[39m maybe_coerce_values(new_values)\n\u001b[0;32m    762\u001b[0m refs \u001b[38;5;241m=\u001b[39m \u001b[38;5;28;01mNone\u001b[39;00m\n",
      "File \u001b[1;32m~\\AppData\\Local\\Programs\\Python\\Python39\\lib\\site-packages\\pandas\\core\\dtypes\\astype.py:237\u001b[0m, in \u001b[0;36mastype_array_safe\u001b[1;34m(values, dtype, copy, errors)\u001b[0m\n\u001b[0;32m    234\u001b[0m     dtype \u001b[38;5;241m=\u001b[39m dtype\u001b[38;5;241m.\u001b[39mnumpy_dtype\n\u001b[0;32m    236\u001b[0m \u001b[38;5;28;01mtry\u001b[39;00m:\n\u001b[1;32m--> 237\u001b[0m     new_values \u001b[38;5;241m=\u001b[39m \u001b[43mastype_array\u001b[49m\u001b[43m(\u001b[49m\u001b[43mvalues\u001b[49m\u001b[43m,\u001b[49m\u001b[43m \u001b[49m\u001b[43mdtype\u001b[49m\u001b[43m,\u001b[49m\u001b[43m \u001b[49m\u001b[43mcopy\u001b[49m\u001b[38;5;241;43m=\u001b[39;49m\u001b[43mcopy\u001b[49m\u001b[43m)\u001b[49m\n\u001b[0;32m    238\u001b[0m \u001b[38;5;28;01mexcept\u001b[39;00m (\u001b[38;5;167;01mValueError\u001b[39;00m, \u001b[38;5;167;01mTypeError\u001b[39;00m):\n\u001b[0;32m    239\u001b[0m     \u001b[38;5;66;03m# e.g. _astype_nansafe can fail on object-dtype of strings\u001b[39;00m\n\u001b[0;32m    240\u001b[0m     \u001b[38;5;66;03m#  trying to convert to float\u001b[39;00m\n\u001b[0;32m    241\u001b[0m     \u001b[38;5;28;01mif\u001b[39;00m errors \u001b[38;5;241m==\u001b[39m \u001b[38;5;124m\"\u001b[39m\u001b[38;5;124mignore\u001b[39m\u001b[38;5;124m\"\u001b[39m:\n",
      "File \u001b[1;32m~\\AppData\\Local\\Programs\\Python\\Python39\\lib\\site-packages\\pandas\\core\\dtypes\\astype.py:182\u001b[0m, in \u001b[0;36mastype_array\u001b[1;34m(values, dtype, copy)\u001b[0m\n\u001b[0;32m    179\u001b[0m     values \u001b[38;5;241m=\u001b[39m values\u001b[38;5;241m.\u001b[39mastype(dtype, copy\u001b[38;5;241m=\u001b[39mcopy)\n\u001b[0;32m    181\u001b[0m \u001b[38;5;28;01melse\u001b[39;00m:\n\u001b[1;32m--> 182\u001b[0m     values \u001b[38;5;241m=\u001b[39m \u001b[43m_astype_nansafe\u001b[49m\u001b[43m(\u001b[49m\u001b[43mvalues\u001b[49m\u001b[43m,\u001b[49m\u001b[43m \u001b[49m\u001b[43mdtype\u001b[49m\u001b[43m,\u001b[49m\u001b[43m \u001b[49m\u001b[43mcopy\u001b[49m\u001b[38;5;241;43m=\u001b[39;49m\u001b[43mcopy\u001b[49m\u001b[43m)\u001b[49m\n\u001b[0;32m    184\u001b[0m \u001b[38;5;66;03m# in pandas we don't store numpy str dtypes, so convert to object\u001b[39;00m\n\u001b[0;32m    185\u001b[0m \u001b[38;5;28;01mif\u001b[39;00m \u001b[38;5;28misinstance\u001b[39m(dtype, np\u001b[38;5;241m.\u001b[39mdtype) \u001b[38;5;129;01mand\u001b[39;00m \u001b[38;5;28missubclass\u001b[39m(values\u001b[38;5;241m.\u001b[39mdtype\u001b[38;5;241m.\u001b[39mtype, \u001b[38;5;28mstr\u001b[39m):\n",
      "File \u001b[1;32m~\\AppData\\Local\\Programs\\Python\\Python39\\lib\\site-packages\\pandas\\core\\dtypes\\astype.py:101\u001b[0m, in \u001b[0;36m_astype_nansafe\u001b[1;34m(arr, dtype, copy, skipna)\u001b[0m\n\u001b[0;32m     96\u001b[0m     \u001b[38;5;28;01mreturn\u001b[39;00m lib\u001b[38;5;241m.\u001b[39mensure_string_array(\n\u001b[0;32m     97\u001b[0m         arr, skipna\u001b[38;5;241m=\u001b[39mskipna, convert_na_value\u001b[38;5;241m=\u001b[39m\u001b[38;5;28;01mFalse\u001b[39;00m\n\u001b[0;32m     98\u001b[0m     )\u001b[38;5;241m.\u001b[39mreshape(shape)\n\u001b[0;32m    100\u001b[0m \u001b[38;5;28;01melif\u001b[39;00m np\u001b[38;5;241m.\u001b[39missubdtype(arr\u001b[38;5;241m.\u001b[39mdtype, np\u001b[38;5;241m.\u001b[39mfloating) \u001b[38;5;129;01mand\u001b[39;00m dtype\u001b[38;5;241m.\u001b[39mkind \u001b[38;5;129;01min\u001b[39;00m \u001b[38;5;124m\"\u001b[39m\u001b[38;5;124miu\u001b[39m\u001b[38;5;124m\"\u001b[39m:\n\u001b[1;32m--> 101\u001b[0m     \u001b[38;5;28;01mreturn\u001b[39;00m \u001b[43m_astype_float_to_int_nansafe\u001b[49m\u001b[43m(\u001b[49m\u001b[43marr\u001b[49m\u001b[43m,\u001b[49m\u001b[43m \u001b[49m\u001b[43mdtype\u001b[49m\u001b[43m,\u001b[49m\u001b[43m \u001b[49m\u001b[43mcopy\u001b[49m\u001b[43m)\u001b[49m\n\u001b[0;32m    103\u001b[0m \u001b[38;5;28;01melif\u001b[39;00m arr\u001b[38;5;241m.\u001b[39mdtype \u001b[38;5;241m==\u001b[39m \u001b[38;5;28mobject\u001b[39m:\n\u001b[0;32m    104\u001b[0m     \u001b[38;5;66;03m# if we have a datetime/timedelta array of objects\u001b[39;00m\n\u001b[0;32m    105\u001b[0m     \u001b[38;5;66;03m# then coerce to datetime64[ns] and use DatetimeArray.astype\u001b[39;00m\n\u001b[0;32m    107\u001b[0m     \u001b[38;5;28;01mif\u001b[39;00m lib\u001b[38;5;241m.\u001b[39mis_np_dtype(dtype, \u001b[38;5;124m\"\u001b[39m\u001b[38;5;124mM\u001b[39m\u001b[38;5;124m\"\u001b[39m):\n",
      "File \u001b[1;32m~\\AppData\\Local\\Programs\\Python\\Python39\\lib\\site-packages\\pandas\\core\\dtypes\\astype.py:145\u001b[0m, in \u001b[0;36m_astype_float_to_int_nansafe\u001b[1;34m(values, dtype, copy)\u001b[0m\n\u001b[0;32m    141\u001b[0m \u001b[38;5;250m\u001b[39m\u001b[38;5;124;03m\"\"\"\u001b[39;00m\n\u001b[0;32m    142\u001b[0m \u001b[38;5;124;03mastype with a check preventing converting NaN to an meaningless integer value.\u001b[39;00m\n\u001b[0;32m    143\u001b[0m \u001b[38;5;124;03m\"\"\"\u001b[39;00m\n\u001b[0;32m    144\u001b[0m \u001b[38;5;28;01mif\u001b[39;00m \u001b[38;5;129;01mnot\u001b[39;00m np\u001b[38;5;241m.\u001b[39misfinite(values)\u001b[38;5;241m.\u001b[39mall():\n\u001b[1;32m--> 145\u001b[0m     \u001b[38;5;28;01mraise\u001b[39;00m IntCastingNaNError(\n\u001b[0;32m    146\u001b[0m         \u001b[38;5;124m\"\u001b[39m\u001b[38;5;124mCannot convert non-finite values (NA or inf) to integer\u001b[39m\u001b[38;5;124m\"\u001b[39m\n\u001b[0;32m    147\u001b[0m     )\n\u001b[0;32m    148\u001b[0m \u001b[38;5;28;01mif\u001b[39;00m dtype\u001b[38;5;241m.\u001b[39mkind \u001b[38;5;241m==\u001b[39m \u001b[38;5;124m\"\u001b[39m\u001b[38;5;124mu\u001b[39m\u001b[38;5;124m\"\u001b[39m:\n\u001b[0;32m    149\u001b[0m     \u001b[38;5;66;03m# GH#45151\u001b[39;00m\n\u001b[0;32m    150\u001b[0m     \u001b[38;5;28;01mif\u001b[39;00m \u001b[38;5;129;01mnot\u001b[39;00m (values \u001b[38;5;241m>\u001b[39m\u001b[38;5;241m=\u001b[39m \u001b[38;5;241m0\u001b[39m)\u001b[38;5;241m.\u001b[39mall():\n",
      "\u001b[1;31mIntCastingNaNError\u001b[0m: Cannot convert non-finite values (NA or inf) to integer"
     ]
    }
   ],
   "source": [
    "df['Age'] = df['Age'].astype(int)"
   ]
  },
  {
   "cell_type": "code",
   "execution_count": null,
   "id": "86545fa6-2364-4989-8cf1-30a6107ee15b",
   "metadata": {},
   "outputs": [],
   "source": []
  }
 ],
 "metadata": {
  "kernelspec": {
   "display_name": "Python 3 (ipykernel)",
   "language": "python",
   "name": "python3"
  },
  "language_info": {
   "codemirror_mode": {
    "name": "ipython",
    "version": 3
   },
   "file_extension": ".py",
   "mimetype": "text/x-python",
   "name": "python",
   "nbconvert_exporter": "python",
   "pygments_lexer": "ipython3",
   "version": "3.9.13"
  }
 },
 "nbformat": 4,
 "nbformat_minor": 5
}
