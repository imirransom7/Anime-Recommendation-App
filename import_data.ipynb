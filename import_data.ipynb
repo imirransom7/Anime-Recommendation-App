{
 "cells": [
  {
   "cell_type": "markdown",
   "id": "9967f759-af66-4bec-a2f4-9df1a8eb1027",
   "metadata": {},
   "source": [
    "# Data Import\n",
    "This notebook is for the importing of the csv files into my database in MySQL. I will be using `pandas` to turn convert the csv files into Dataframes\n",
    "and then I will transfer the DataFrames into the MySQL Database."
   ]
  },
  {
   "cell_type": "markdown",
   "id": "4524ceda-1c79-4054-99b6-7be5bf9a1e09",
   "metadata": {},
   "source": [
    "## Imports\n",
    "Importing the neccessary imports for the data transfers and conversions"
   ]
  },
  {
   "cell_type": "code",
   "execution_count": 1,
   "id": "384e1a83-6676-4546-9576-dbe2a7e1b3ad",
   "metadata": {},
   "outputs": [],
   "source": [
    "import pandas as pd\n",
    "from config import *\n",
    "from sqlalchemy import create_engine"
   ]
  },
  {
   "cell_type": "markdown",
   "id": "adab7a0c-df7b-4620-b668-7c3f468394f6",
   "metadata": {},
   "source": [
    "## Connecting to the MySQL database"
   ]
  },
  {
   "cell_type": "code",
   "execution_count": 2,
   "id": "c6da8a3d-f7be-4733-91de-038c9353a1bc",
   "metadata": {},
   "outputs": [],
   "source": [
    "engine = create_engine(mysql_path)"
   ]
  },
  {
   "cell_type": "markdown",
   "id": "48aa4b87-27d9-4c63-a2b5-b5cc70192f52",
   "metadata": {},
   "source": [
    "### Loading data into pandas DataFrame"
   ]
  },
  {
   "cell_type": "code",
   "execution_count": 3,
   "id": "5de98979-f266-48b5-91aa-953ec6f2c827",
   "metadata": {},
   "outputs": [],
   "source": [
    "df1 = pd.read_csv(\"E:/RhaMo/CSV Files/Anime Dataset/anime_dataset_1.csv\")"
   ]
  },
  {
   "cell_type": "code",
   "execution_count": 4,
   "id": "0fa0c638-ad05-4602-843d-e590ef1d170c",
   "metadata": {},
   "outputs": [],
   "source": [
    "df2 = pd.read_csv(\"E:/RhaMo/CSV Files/Anime Dataset/anime-2023-names.csv\")"
   ]
  },
  {
   "cell_type": "code",
   "execution_count": 5,
   "id": "590c51dd-4bba-4704-871e-64ae2644df3c",
   "metadata": {},
   "outputs": [],
   "source": [
    "df3 = pd.read_csv(\"E:/RhaMo/CSV Files/Anime Dataset/user_details.csv\")"
   ]
  },
  {
   "cell_type": "code",
   "execution_count": 4,
   "id": "fa9b2135-c151-4481-81d6-194df8a39c7e",
   "metadata": {},
   "outputs": [],
   "source": [
    "df4 = pd.read_csv(\"E:/RhaMo/CSV Files/Anime Dataset/final_animedataset.csv\")"
   ]
  },
  {
   "cell_type": "markdown",
   "id": "dcbc3789-7474-4c9f-b475-50213cdacb83",
   "metadata": {},
   "source": [
    "### DataFrame Exporting\n",
    "exporting the DataFrame into the MySQL Database"
   ]
  },
  {
   "cell_type": "markdown",
   "id": "7847574e-f4f0-4f49-86f1-9d35b3a745cc",
   "metadata": {},
   "source": [
    "commenting out the code for the export so it doesn't run again and duplicate the data"
   ]
  },
  {
   "cell_type": "code",
   "execution_count": 11,
   "id": "93a732d6-5d8d-4996-853b-b5dae5902aad",
   "metadata": {},
   "outputs": [
    {
     "data": {
      "text/plain": [
       "24905"
      ]
     },
     "execution_count": 11,
     "metadata": {},
     "output_type": "execute_result"
    }
   ],
   "source": [
    "# df1.to_sql('anime_dataset', con=engine, if_exists='append', index=False)"
   ]
  },
  {
   "cell_type": "markdown",
   "id": "06ada532-225f-4671-bdf9-23073ffd785e",
   "metadata": {},
   "source": [
    "### Splitting Data\n",
    "The data in the csv file `final_animedataset.csv` is to large to be exported all at once, so I need to split the data up and then export the data one at a time"
   ]
  },
  {
   "cell_type": "code",
   "execution_count": null,
   "id": "cffe544c-0381-40cb-a732-4289f31daf7d",
   "metadata": {},
   "outputs": [],
   "source": [
    "# df4.to_sql('final_data', con=engine, if_exists='append', index=False)"
   ]
  },
  {
   "cell_type": "code",
   "execution_count": 7,
   "id": "5732bd1b-9354-4b98-9d38-ab5eb97e5a79",
   "metadata": {},
   "outputs": [
    {
     "name": "stdout",
     "output_type": "stream",
     "text": [
      "<class 'pandas.core.frame.DataFrame'>\n",
      "RangeIndex: 731290 entries, 0 to 731289\n",
      "Data columns (total 17 columns):\n",
      " #   Column            Non-Null Count   Dtype  \n",
      "---  ------            --------------   -----  \n",
      " 0   Mal ID            731290 non-null  int64  \n",
      " 1   Username          731289 non-null  object \n",
      " 2   Gender            224383 non-null  object \n",
      " 3   Birthday          168068 non-null  object \n",
      " 4   Location          152805 non-null  object \n",
      " 5   Joined            731290 non-null  object \n",
      " 6   Days Watched      731282 non-null  float64\n",
      " 7   Mean Score        731282 non-null  float64\n",
      " 8   Watching          731282 non-null  float64\n",
      " 9   Completed         731282 non-null  float64\n",
      " 10  On Hold           731282 non-null  float64\n",
      " 11  Dropped           731282 non-null  float64\n",
      " 12  Plan to Watch     731282 non-null  float64\n",
      " 13  Total Entries     731282 non-null  float64\n",
      " 14  Rewatched         731282 non-null  float64\n",
      " 15  Episodes Watched  731282 non-null  float64\n",
      " 16  Age               168068 non-null  float64\n",
      "dtypes: float64(11), int64(1), object(5)\n",
      "memory usage: 94.8+ MB\n"
     ]
    }
   ],
   "source": [
    "df3.info()"
   ]
  },
  {
   "cell_type": "code",
   "execution_count": 6,
   "id": "6a1a1e3e-a498-4475-9f7d-199974a53ad3",
   "metadata": {},
   "outputs": [
    {
     "name": "stdout",
     "output_type": "stream",
     "text": [
      "<class 'pandas.core.frame.DataFrame'>\n",
      "RangeIndex: 35305695 entries, 0 to 35305694\n",
      "Data columns (total 13 columns):\n",
      " #   Column      Dtype  \n",
      "---  ------      -----  \n",
      " 0   username    object \n",
      " 1   anime_id    int64  \n",
      " 2   my_score    int64  \n",
      " 3   user_id     int64  \n",
      " 4   gender      object \n",
      " 5   title       object \n",
      " 6   type        object \n",
      " 7   source      object \n",
      " 8   score       float64\n",
      " 9   scored_by   int64  \n",
      " 10  rank        float64\n",
      " 11  popularity  int64  \n",
      " 12  genre       object \n",
      "dtypes: float64(2), int64(5), object(6)\n",
      "memory usage: 3.4+ GB\n"
     ]
    }
   ],
   "source": [
    "df4.info()"
   ]
  },
  {
   "cell_type": "markdown",
   "id": "5abffa30-8c26-4271-9c94-810f82d59182",
   "metadata": {},
   "source": [
    "**Splitting the data up into 5 pieces**"
   ]
  },
  {
   "cell_type": "code",
   "execution_count": 20,
   "id": "afc6ebf0-fb9e-4106-b4c4-b5a95ee6ce8c",
   "metadata": {},
   "outputs": [],
   "source": [
    "split1 = df4.iloc[:7061139]\n",
    "split2 = df4.iloc[7061139:14122278]\n",
    "split3 = df4.iloc[14122278:21183417]\n",
    "split4 = df4.iloc[21183417:28244556]\n",
    "split5 = df4.iloc[28244556:]"
   ]
  },
  {
   "cell_type": "markdown",
   "id": "36bf4ce9-8620-4078-8c7b-e9df648c8b92",
   "metadata": {},
   "source": [
    "Commenting out the exports so they won't be ran again, causing duplicates"
   ]
  },
  {
   "cell_type": "code",
   "execution_count": 18,
   "id": "3eb7b033-406f-4243-831a-6a362dd16405",
   "metadata": {},
   "outputs": [
    {
     "data": {
      "text/plain": [
       "7061139"
      ]
     },
     "execution_count": 18,
     "metadata": {},
     "output_type": "execute_result"
    }
   ],
   "source": [
    "# split1.to_sql('final_data', con=engine, if_exists='append', index=False)"
   ]
  },
  {
   "cell_type": "code",
   "execution_count": 21,
   "id": "612ff7ed-1717-4571-a04a-bdd9549d8a87",
   "metadata": {},
   "outputs": [
    {
     "data": {
      "text/plain": [
       "7061139"
      ]
     },
     "execution_count": 21,
     "metadata": {},
     "output_type": "execute_result"
    }
   ],
   "source": [
    "# split2.to_sql('final_data', con=engine, if_exists='append', index=False)"
   ]
  },
  {
   "cell_type": "code",
   "execution_count": 22,
   "id": "8937db94-d5bf-4ab7-a083-61d485c45e47",
   "metadata": {},
   "outputs": [
    {
     "data": {
      "text/plain": [
       "7061139"
      ]
     },
     "execution_count": 22,
     "metadata": {},
     "output_type": "execute_result"
    }
   ],
   "source": [
    "# split3.to_sql('final_data', con=engine, if_exists='append', index=False)"
   ]
  },
  {
   "cell_type": "code",
   "execution_count": 23,
   "id": "c67f3b8a-b08b-4f2f-a5e0-2d1a3c3024e3",
   "metadata": {},
   "outputs": [
    {
     "data": {
      "text/plain": [
       "7061139"
      ]
     },
     "execution_count": 23,
     "metadata": {},
     "output_type": "execute_result"
    }
   ],
   "source": [
    "# split4.to_sql('final_data', con=engine, if_exists='append', index=False)"
   ]
  },
  {
   "cell_type": "code",
   "execution_count": 24,
   "id": "649028e5-bc20-4557-a209-c88f85f90491",
   "metadata": {},
   "outputs": [
    {
     "data": {
      "text/plain": [
       "7061139"
      ]
     },
     "execution_count": 24,
     "metadata": {},
     "output_type": "execute_result"
    }
   ],
   "source": [
    "# split5.to_sql('final_data', con=engine, if_exists='append', index=False)"
   ]
  },
  {
   "cell_type": "code",
   "execution_count": null,
   "id": "df53eee5-971c-4bd8-a97d-6a69c08a3b09",
   "metadata": {},
   "outputs": [],
   "source": []
  }
 ],
 "metadata": {
  "kernelspec": {
   "display_name": "Python 3 (ipykernel)",
   "language": "python",
   "name": "python3"
  },
  "language_info": {
   "codemirror_mode": {
    "name": "ipython",
    "version": 3
   },
   "file_extension": ".py",
   "mimetype": "text/x-python",
   "name": "python",
   "nbconvert_exporter": "python",
   "pygments_lexer": "ipython3",
   "version": "3.9.13"
  }
 },
 "nbformat": 4,
 "nbformat_minor": 5
}
